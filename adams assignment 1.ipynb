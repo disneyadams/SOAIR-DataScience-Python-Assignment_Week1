{
 "cells": [
  {
   "cell_type": "markdown",
   "id": "7b5248a0",
   "metadata": {},
   "source": [
    "## Homework"
   ]
  },
  {
   "cell_type": "markdown",
   "id": "d4574bd6",
   "metadata": {},
   "source": [
    "1. Answer the following questions: https://quizizz.com/admin/quiz/5cd4265c88978d001a646e68/python-arithmetic-operators\n",
    "\n",
    "2. The formula for converting between Celsius and Fahrenheit is $(F-32)\\times\\frac{5}{9}=C$. Write this formula in python and use it to convert $200^{\\circ}$F to celsius\n",
    "\n",
    "3. The area of a Stadium of length  500m and breadth 200m (Hint: Area = length x breadth)\n",
    "\n",
    "4. The volume of a tank of length 240cm, breadth 160cm and 268cm wide. (Hint: Volume = Length x breadth x width)\n",
    "\n",
    "5. The simple interest at a principal of 250,000 naira, rate of 6% and in two years. (Hint: Simple Interest =( principal x rate x time)/100)\n",
    "\n",
    "6. Goods in a container cost 120,000,000 naira. If the goods were sold at 150,000,000 naira, what is the percentage profit on the gooods. (Hint: profit = Selling price – cost price) (Percentage profit = (profit/cost price) x 100)"
   ]
  },
  {
   "cell_type": "code",
   "execution_count": null,
   "id": "34840ef8",
   "metadata": {},
   "outputs": [],
   "source": []
  },
  {
   "cell_type": "code",
   "execution_count": 3,
   "id": "0e4db8d2",
   "metadata": {},
   "outputs": [
    {
     "data": {
      "text/plain": [
       "93.33333333333333"
      ]
     },
     "execution_count": 3,
     "metadata": {},
     "output_type": "execute_result"
    }
   ],
   "source": [
    "F = 200\n",
    "\n",
    "C = (F-32)*5/9\n",
    "\n",
    "C"
   ]
  },
  {
   "cell_type": "code",
   "execution_count": 4,
   "id": "096097f7",
   "metadata": {},
   "outputs": [
    {
     "data": {
      "text/plain": [
       "100000"
      ]
     },
     "execution_count": 4,
     "metadata": {},
     "output_type": "execute_result"
    }
   ],
   "source": [
    "l=500\n",
    "b=200\n",
    "Area=l*b\n",
    "Area"
   ]
  },
  {
   "cell_type": "code",
   "execution_count": 5,
   "id": "bb3c3e3c",
   "metadata": {},
   "outputs": [
    {
     "data": {
      "text/plain": [
       "10291200"
      ]
     },
     "execution_count": 5,
     "metadata": {},
     "output_type": "execute_result"
    }
   ],
   "source": [
    "l=240\n",
    "b=160\n",
    "h=268\n",
    "volume=l*b*h\n",
    "volume"
   ]
  },
  {
   "cell_type": "code",
   "execution_count": 8,
   "id": "aa1c2143",
   "metadata": {},
   "outputs": [
    {
     "data": {
      "text/plain": [
       "30000.0"
      ]
     },
     "execution_count": 8,
     "metadata": {},
     "output_type": "execute_result"
    }
   ],
   "source": [
    "p=250000\n",
    "r=6\n",
    "t=2\n",
    "interest=p*r*t/100\n",
    "interest"
   ]
  },
  {
   "cell_type": "code",
   "execution_count": 17,
   "id": "1354c4e8",
   "metadata": {},
   "outputs": [
    {
     "name": "stdout",
     "output_type": "stream",
     "text": [
      "25.0\n"
     ]
    }
   ],
   "source": [
    "c=120000000\n",
    "s=150000000\n",
    "p=s-c\n",
    "percentage_p =p/c*100\n",
    "print(percentage_p)"
   ]
  },
  {
   "cell_type": "code",
   "execution_count": null,
   "id": "b5e9b6e7",
   "metadata": {},
   "outputs": [],
   "source": []
  }
 ],
 "metadata": {
  "kernelspec": {
   "display_name": "Python 3 (ipykernel)",
   "language": "python",
   "name": "python3"
  },
  "language_info": {
   "codemirror_mode": {
    "name": "ipython",
    "version": 3
   },
   "file_extension": ".py",
   "mimetype": "text/x-python",
   "name": "python",
   "nbconvert_exporter": "python",
   "pygments_lexer": "ipython3",
   "version": "3.9.13"
  }
 },
 "nbformat": 4,
 "nbformat_minor": 5
}
